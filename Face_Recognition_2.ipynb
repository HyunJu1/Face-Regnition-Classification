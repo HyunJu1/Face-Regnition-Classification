{
  "nbformat": 4,
  "nbformat_minor": 0,
  "metadata": {
    "colab": {
      "name": "Face_Recognition_2.ipynb",
      "version": "0.3.2",
      "provenance": [],
      "collapsed_sections": []
    },
    "kernelspec": {
      "name": "python3",
      "display_name": "Python 3"
    },
    "accelerator": "GPU"
  },
  "cells": [
    {
      "cell_type": "code",
      "metadata": {
        "id": "TxEbUJI-j9Ss",
        "colab_type": "code",
        "colab": {
          "base_uri": "https://localhost:8080/",
          "height": 52
        },
        "outputId": "c5cd8de0-3199-430f-84cc-aa779664c164"
      },
      "source": [
        "from keras.models import Sequential \n",
        "from keras.layers import Conv2D \n",
        "from keras.layers import MaxPooling2D \n",
        "from keras.layers import Flatten \n",
        "from keras.layers import Dense\n",
        "\n",
        "\n",
        "\n",
        "from google.colab import drive\n",
        "drive.mount('/content/gdrive')\n",
        "\n"
      ],
      "execution_count": 1,
      "outputs": [
        {
          "output_type": "stream",
          "text": [
            "Using TensorFlow backend.\n"
          ],
          "name": "stderr"
        },
        {
          "output_type": "stream",
          "text": [
            "Drive already mounted at /content/gdrive; to attempt to forcibly remount, call drive.mount(\"/content/gdrive\", force_remount=True).\n"
          ],
          "name": "stdout"
        }
      ]
    },
    {
      "cell_type": "code",
      "metadata": {
        "id": "qMbuXdyZkPWy",
        "colab_type": "code",
        "colab": {
          "base_uri": "https://localhost:8080/",
          "height": 52
        },
        "outputId": "74de9aef-477b-4a72-f9b4-f822e174d7a6"
      },
      "source": [
        "\n",
        "# Part 2 - Fitting the CNN to the images\n",
        "from keras.preprocessing.image import ImageDataGenerator\n",
        "\n",
        "train_datagen = ImageDataGenerator(   \n",
        "    featurewise_center=False,\n",
        "    samplewise_center=False,\n",
        "    featurewise_std_normalization=False,\n",
        "    samplewise_std_normalization=False,\n",
        "    zca_whitening=False,\n",
        "    rotation_range=15,\n",
        "    width_shift_range=0.1,\n",
        "    height_shift_range=0.1,\n",
        "    horizontal_flip=True,\n",
        "    vertical_flip=False)\n",
        "\n",
        "test_datagen = ImageDataGenerator(rescale = 1./255)\n",
        "\n",
        "\n",
        "training_set = train_datagen.flow_from_directory('/content/gdrive/My Drive/Colab Notebooks/train_data',\n",
        "                                                 target_size = (64, 64),\n",
        "                                                 batch_size = 16,\n",
        "                                                 class_mode = 'categorical')\n",
        "\n",
        "test_set = test_datagen.flow_from_directory('/content/gdrive/My Drive/Colab Notebooks/test_data',\n",
        "                                            target_size = (64, 64),\n",
        "                                            batch_size = 16,\n",
        "                                            class_mode = 'categorical')\n"
      ],
      "execution_count": 2,
      "outputs": [
        {
          "output_type": "stream",
          "text": [
            "Found 27 images belonging to 4 classes.\n",
            "Found 9 images belonging to 4 classes.\n"
          ],
          "name": "stdout"
        }
      ]
    },
    {
      "cell_type": "code",
      "metadata": {
        "id": "I8lm5_SuTaWj",
        "colab_type": "code",
        "colab": {
          "base_uri": "https://localhost:8080/",
          "height": 540
        },
        "outputId": "2b144000-59e5-49ea-8089-2ac751f7bb1a"
      },
      "source": [
        "\n",
        "\n",
        "\n",
        "\n",
        "# Initialising the CNN\n",
        "classifier = Sequential()\n",
        "\n",
        "# Step 1 - Convolution\n",
        "classifier.add(Conv2D(32, (3, 3), input_shape = (64, 64, 3), activation = 'relu'))\n",
        "\n",
        "# Step 2 - Pooling\n",
        "classifier.add(MaxPooling2D(pool_size = (2, 2)))\n",
        "\n",
        "# Adding a second convolutional layer\n",
        "classifier.add(Conv2D(32, (3, 3), activation = 'relu'))\n",
        "classifier.add(MaxPooling2D(pool_size = (2, 2)))\n",
        "\n",
        "# Step 3 - Flattening\n",
        "classifier.add(Flatten())\n",
        "\n",
        "# Step 4 - Full connection\n",
        "classifier.add(Dense(units = 128, activation = 'relu'))\n",
        "classifier.add(Dense(units = 1, activation = 'sigmoid'))\n",
        "classifier.add(Dense(4, activation='softmax'))\n",
        "\n",
        "# Compiling the CNN\n",
        "classifier.compile(optimizer = 'adam', loss = 'categorical_crossentropy', metrics = ['accuracy'])\n",
        "\n",
        "classifier.summary()\n",
        "\n",
        "STEP_SIZE_VALID=test_set.n//test_set.batch_size\n",
        "\n",
        "classifier.fit_generator(generator= training_set,\n",
        "                         steps_per_epoch = 30,\n",
        "                         epochs = 3,\n",
        "                         validation_data = test_set,\n",
        "                         validation_steps = 200\n",
        "                        )\n",
        "\n",
        "# 첫번째 인자 : 훈련데이터셋을 제공할 제네레이터를 지정합니다. 본 예제에서는 앞서 생성한 train_generator으로 지정합니다.\n",
        "# steps_per_epoch : 한 epoch에 사용한 스텝 수를 지정합니다. 총 45개의 훈련 샘플이 있고 배치사이즈가 3이므로 15 스텝으로 지정합니다.\n",
        "# epochs : 전체 훈련 데이터셋에 대해 학습 반복 횟수를 지정합니다. 100번을 반복적으로 학습시켜 보겠습니다.\n",
        "# validation_data : 검증데이터셋을 제공할 제네레이터를 지정합니다. 본 예제에서는 앞서 생성한 validation_generator으로 지정합니다.\n",
        "# validation_steps : 한 epoch 종료 시 마다 검증할 때 사용되는 검증 스텝 수를 지정합니다. 홍 15개의 검증 샘플이 있고 배치사이즈가 3이므로 5 스텝으로 지정합니다.\n",
        "\n",
        "   "
      ],
      "execution_count": 10,
      "outputs": [
        {
          "output_type": "stream",
          "text": [
            "_________________________________________________________________\n",
            "Layer (type)                 Output Shape              Param #   \n",
            "=================================================================\n",
            "conv2d_15 (Conv2D)           (None, 62, 62, 32)        896       \n",
            "_________________________________________________________________\n",
            "max_pooling2d_15 (MaxPooling (None, 31, 31, 32)        0         \n",
            "_________________________________________________________________\n",
            "conv2d_16 (Conv2D)           (None, 29, 29, 32)        9248      \n",
            "_________________________________________________________________\n",
            "max_pooling2d_16 (MaxPooling (None, 14, 14, 32)        0         \n",
            "_________________________________________________________________\n",
            "flatten_8 (Flatten)          (None, 6272)              0         \n",
            "_________________________________________________________________\n",
            "dense_18 (Dense)             (None, 128)               802944    \n",
            "_________________________________________________________________\n",
            "dense_19 (Dense)             (None, 1)                 129       \n",
            "_________________________________________________________________\n",
            "dense_20 (Dense)             (None, 4)                 8         \n",
            "=================================================================\n",
            "Total params: 813,225\n",
            "Trainable params: 813,225\n",
            "Non-trainable params: 0\n",
            "_________________________________________________________________\n",
            "Epoch 1/3\n",
            "300/300 [==============================] - 227s 757ms/step - loss: 1.3549 - acc: 0.4038 - val_loss: 1.3128 - val_acc: 0.4444\n",
            "Epoch 2/3\n",
            "300/300 [==============================] - 225s 750ms/step - loss: 1.3160 - acc: 0.4082 - val_loss: 1.2795 - val_acc: 0.4444\n",
            "Epoch 3/3\n",
            "300/300 [==============================] - 224s 746ms/step - loss: 1.3021 - acc: 0.4084 - val_loss: 1.2680 - val_acc: 0.4444\n"
          ],
          "name": "stdout"
        },
        {
          "output_type": "execute_result",
          "data": {
            "text/plain": [
              "<keras.callbacks.History at 0x7f218988d0f0>"
            ]
          },
          "metadata": {
            "tags": []
          },
          "execution_count": 10
        }
      ]
    },
    {
      "cell_type": "code",
      "metadata": {
        "id": "2ZNPQWkhkoBC",
        "colab_type": "code",
        "colab": {
          "base_uri": "https://localhost:8080/",
          "height": 34
        },
        "outputId": "4b216c13-a276-45b1-ab96-be9a40fe4e59"
      },
      "source": [
        "\n",
        "# 모델 평가\n",
        "\n",
        "scores = classifier.evaluate_generator(\n",
        "            test_set, \n",
        "            steps = 5)\n",
        "\n",
        "print(\"%s: %.2f%%\" %('Accuracy', scores[1]*100))"
      ],
      "execution_count": 11,
      "outputs": [
        {
          "output_type": "stream",
          "text": [
            "Accuracy: 44.44%\n"
          ],
          "name": "stdout"
        }
      ]
    },
    {
      "cell_type": "code",
      "metadata": {
        "id": "-Dgxu3-4R8Ak",
        "colab_type": "code",
        "colab": {
          "base_uri": "https://localhost:8080/",
          "height": 820
        },
        "outputId": "6e366294-e6b1-44b1-8645-63cb1e27282c"
      },
      "source": [
        "import numpy as np\n",
        "# 모델 예측하기\n",
        "print(\"-- Predict --\")\n",
        "\n",
        "\n",
        "output = classifier.predict_generator(\n",
        "            test_set, \n",
        "            steps = 5)\n",
        "\n",
        "np.set_printoptions(formatter={'float': lambda x: \"{0:0.3f}\".format(x)})\n",
        "print(output)"
      ],
      "execution_count": 12,
      "outputs": [
        {
          "output_type": "stream",
          "text": [
            "-- Predict --\n",
            "[[0.382 0.143 0.221 0.254]\n",
            " [0.382 0.143 0.221 0.254]\n",
            " [0.382 0.143 0.221 0.254]\n",
            " [0.382 0.143 0.221 0.254]\n",
            " [0.382 0.143 0.221 0.254]\n",
            " [0.382 0.143 0.221 0.254]\n",
            " [0.382 0.143 0.221 0.254]\n",
            " [0.382 0.143 0.221 0.254]\n",
            " [0.382 0.143 0.221 0.254]\n",
            " [0.382 0.143 0.221 0.254]\n",
            " [0.382 0.143 0.221 0.254]\n",
            " [0.382 0.143 0.221 0.254]\n",
            " [0.382 0.143 0.221 0.254]\n",
            " [0.382 0.143 0.221 0.254]\n",
            " [0.382 0.143 0.221 0.254]\n",
            " [0.382 0.143 0.221 0.254]\n",
            " [0.382 0.143 0.221 0.254]\n",
            " [0.382 0.143 0.221 0.254]\n",
            " [0.382 0.143 0.221 0.254]\n",
            " [0.382 0.143 0.221 0.254]\n",
            " [0.382 0.143 0.221 0.254]\n",
            " [0.382 0.143 0.221 0.254]\n",
            " [0.382 0.143 0.221 0.254]\n",
            " [0.382 0.143 0.221 0.254]\n",
            " [0.382 0.143 0.221 0.254]\n",
            " [0.382 0.143 0.221 0.254]\n",
            " [0.382 0.143 0.221 0.254]\n",
            " [0.382 0.143 0.221 0.254]\n",
            " [0.382 0.143 0.221 0.254]\n",
            " [0.382 0.143 0.221 0.254]\n",
            " [0.382 0.143 0.221 0.254]\n",
            " [0.382 0.143 0.221 0.254]\n",
            " [0.382 0.143 0.221 0.254]\n",
            " [0.382 0.143 0.221 0.254]\n",
            " [0.382 0.143 0.221 0.254]\n",
            " [0.382 0.143 0.221 0.254]\n",
            " [0.382 0.143 0.221 0.254]\n",
            " [0.382 0.143 0.221 0.254]\n",
            " [0.382 0.143 0.221 0.254]\n",
            " [0.382 0.143 0.221 0.254]\n",
            " [0.382 0.143 0.221 0.254]\n",
            " [0.382 0.143 0.221 0.254]\n",
            " [0.382 0.143 0.221 0.254]\n",
            " [0.382 0.143 0.221 0.254]\n",
            " [0.382 0.143 0.221 0.254]]\n"
          ],
          "name": "stdout"
        }
      ]
    }
  ]
}